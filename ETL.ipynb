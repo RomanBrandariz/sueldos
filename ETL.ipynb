{
 "cells": [
  {
   "cell_type": "code",
   "execution_count": 1,
   "metadata": {},
   "outputs": [
    {
     "name": "stdout",
     "output_type": "stream",
     "text": [
      "  CUIL   AÑO MES                              NOMBRE              DESC_REP  \\\n",
      "0  NaN  2012   1                     MACRI, MAURICIO      JEFE DE GOBIERNO   \n",
      "1  NaN  2012   1                VIDAL, MARIA EUGENIA  VICEJEFA DE GOBIERNO   \n",
      "2  NaN  2012   1  RODRIGUEZ LARRETA, HORACIO ANTONIO      JEFE DE GABINETE   \n",
      "3  NaN  2012   1           GRINDETTI, NESTOR OSVALDO              MINISTRO   \n",
      "4  NaN  2012   1              BULLRICH, ESTEBAN JOSE              MINISTRO   \n",
      "\n",
      "  ASIGNACION    BRUTO OBSERVACIONES  \n",
      "0     6300.0   5210.1           NaN  \n",
      "1    52226.1  29346.8           NaN  \n",
      "2    25080.0  13857.0           NaN  \n",
      "3    25080.0  16054.0           NaN  \n",
      "4    25080.0  15189.4           NaN  \n"
     ]
    }
   ],
   "source": [
    "import pandas as pd\n",
    "\n",
    "# Cargar el archivo CSV en un DataFrame\n",
    "df_sueldos = pd.read_csv(\"sueldos_del_2012_en_adelante.csv\")\n",
    "\n",
    "# Mostrar las primeras filas del DataFrame para verificar que se haya cargado correctamente\n",
    "print(df_sueldos.head())\n"
   ]
  }
 ],
 "metadata": {
  "kernelspec": {
   "display_name": "Python 3",
   "language": "python",
   "name": "python3"
  },
  "language_info": {
   "codemirror_mode": {
    "name": "ipython",
    "version": 3
   },
   "file_extension": ".py",
   "mimetype": "text/x-python",
   "name": "python",
   "nbconvert_exporter": "python",
   "pygments_lexer": "ipython3",
   "version": "3.10.12"
  }
 },
 "nbformat": 4,
 "nbformat_minor": 2
}
