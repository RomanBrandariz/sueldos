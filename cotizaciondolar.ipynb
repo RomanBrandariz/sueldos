{
 "cells": [
  {
   "cell_type": "code",
   "execution_count": 1,
   "metadata": {},
   "outputs": [],
   "source": [
    "import pandas as pd"
   ]
  },
  {
   "cell_type": "code",
   "execution_count": 2,
   "metadata": {},
   "outputs": [],
   "source": [
    "# Ruta del archivo CSV\n",
    "archivo_csv = \"Datasetoriginales/Datos históricos USD_ARS.csv\"\n",
    "\n",
    "# Leer el archivo CSV en un DataFrame\n",
    "df_dolar = pd.read_csv(archivo_csv)"
   ]
  },
  {
   "cell_type": "code",
   "execution_count": 8,
   "metadata": {},
   "outputs": [],
   "source": [
    "# Crear el nuevo DataFrame df_dolarch\n",
    "df_dolarch = df_dolar[['Fecha', 'Último']].copy()\n",
    "\n",
    "# Renombrar la columna 'Último' a 'valor'\n",
    "df_dolarch = df_dolarch.rename(columns={'Último': 'valor'})"
   ]
  },
  {
   "cell_type": "code",
   "execution_count": 10,
   "metadata": {},
   "outputs": [],
   "source": [
    "# Reemplazar las comas por puntos en la columna 'valor'\n",
    "df_dolarch['valor'] = df_dolarch['valor'].str.replace(',', '.')\n",
    "\n",
    "# Convertir la columna 'valor' al tipo de datos float\n",
    "df_dolarch['valor'] = df_dolarch['valor'].astype(float)\n",
    "\n",
    "# Convertir los valores float a números enteros\n",
    "df_dolarch['valor'] = df_dolarch['valor'].astype(int)"
   ]
  },
  {
   "cell_type": "code",
   "execution_count": 12,
   "metadata": {},
   "outputs": [
    {
     "name": "stdout",
     "output_type": "stream",
     "text": [
      "        Fecha  valor  dia  mes   año\n",
      "0  21.04.2024    868   21    4  2024\n",
      "1  19.04.2024    871   19    4  2024\n",
      "2  18.04.2024    869   18    4  2024\n",
      "3  17.04.2024    869   17    4  2024\n",
      "4  16.04.2024    868   16    4  2024\n"
     ]
    }
   ],
   "source": [
    "# Separar la columna 'Fecha' en tres nuevas columnas 'dia', 'mes' y 'año'\n",
    "df_dolarch[['dia', 'mes', 'año']] = df_dolarch['Fecha'].str.split('.', expand=True)\n",
    "\n",
    "# Convertir las columnas 'dia' y 'mes' a tipo de datos entero\n",
    "df_dolarch['dia'] = df_dolarch['dia'].astype(int)\n",
    "df_dolarch['mes'] = df_dolarch['mes'].astype(int)\n",
    "\n",
    "# Mostrar las primeras filas del DataFrame para verificar los cambios\n",
    "print(df_dolarch.head())\n"
   ]
  },
  {
   "cell_type": "code",
   "execution_count": 14,
   "metadata": {},
   "outputs": [
    {
     "name": "stdout",
     "output_type": "stream",
     "text": [
      "      año  mes       Fecha  valor  dia\n",
      "0    2012    1  31.01.2012      4   31\n",
      "1    2012    2  29.02.2012      4   29\n",
      "2    2012    3  30.03.2012      4   30\n",
      "3    2012    4  30.04.2012      4   30\n",
      "4    2012    5  31.05.2012      4   31\n",
      "..    ...  ...         ...    ...  ...\n",
      "143  2023   12  29.12.2023    808   29\n",
      "144  2024    1  31.01.2024    826   31\n",
      "145  2024    2  29.02.2024    842   29\n",
      "146  2024    3  29.03.2024    856   29\n",
      "147  2024    4  21.04.2024    868   21\n",
      "\n",
      "[148 rows x 5 columns]\n"
     ]
    }
   ],
   "source": [
    "# Convertir las columnas 'año' y 'mes' a tipo de datos entero (por si acaso)\n",
    "df_dolarch['año'] = df_dolarch['año'].astype(int)\n",
    "df_dolarch['mes'] = df_dolarch['mes'].astype(int)\n",
    "\n",
    "# Agrupar por año y mes, y seleccionar el primer registro de cada grupo\n",
    "df_dolarch_uniq = df_dolarch.groupby(['año', 'mes']).first().reset_index()\n",
    "\n",
    "# Mostrar el DataFrame resultante\n",
    "print(df_dolarch_uniq)\n"
   ]
  },
  {
   "cell_type": "code",
   "execution_count": 15,
   "metadata": {},
   "outputs": [
    {
     "name": "stdout",
     "output_type": "stream",
     "text": [
      "    año  mes  valor\n",
      "0  2012    1      4\n",
      "1  2012    2      4\n",
      "2  2012    3      4\n",
      "3  2012    4      4\n",
      "4  2012    5      4\n"
     ]
    }
   ],
   "source": [
    "# Eliminar las columnas 'dia' y 'Fecha' del DataFrame df_dolarch_uniq\n",
    "df_dolarch_uniq = df_dolarch_uniq.drop(columns=['dia', 'Fecha'])\n",
    "\n",
    "# Mostrar las primeras filas del DataFrame para verificar los cambios\n",
    "print(df_dolarch_uniq.head())\n"
   ]
  },
  {
   "cell_type": "code",
   "execution_count": 16,
   "metadata": {},
   "outputs": [
    {
     "name": "stdout",
     "output_type": "stream",
     "text": [
      "El archivo dolarxmes.csv se ha guardado correctamente.\n"
     ]
    }
   ],
   "source": [
    "# Guardar el DataFrame df_dolarch_uniq en un archivo CSV llamado dolarxmes.csv\n",
    "df_dolarch_uniq.to_csv('dolarxmes.csv', index=False)\n",
    "\n",
    "# Confirmación de que se ha guardado correctamente\n",
    "print(\"El archivo dolarxmes.csv se ha guardado correctamente.\")\n"
   ]
  }
 ],
 "metadata": {
  "kernelspec": {
   "display_name": "Python 3",
   "language": "python",
   "name": "python3"
  },
  "language_info": {
   "codemirror_mode": {
    "name": "ipython",
    "version": 3
   },
   "file_extension": ".py",
   "mimetype": "text/x-python",
   "name": "python",
   "nbconvert_exporter": "python",
   "pygments_lexer": "ipython3",
   "version": "3.10.12"
  }
 },
 "nbformat": 4,
 "nbformat_minor": 2
}
